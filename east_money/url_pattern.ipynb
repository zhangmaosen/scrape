{
 "cells": [
  {
   "cell_type": "code",
   "execution_count": null,
   "metadata": {},
   "outputs": [],
   "source": [
    "report_list_url = \"https://reportapi.eastmoney.com/report/list2\"\n"
   ]
  },
  {
   "cell_type": "code",
   "execution_count": null,
   "metadata": {},
   "outputs": [],
   "source": [
    "pay_load = {\"beginTime\":\"2023-03-25\",\"endTime\":\"2025-03-25\",\"industryCode\":\"*\",\"ratingChange\":None,\"rating\":None,\"orgCode\":None,\"code\":\"*\",\"rcode\":\"\",\"pageSize\":50}"
   ]
  },
  {
   "cell_type": "code",
   "execution_count": null,
   "metadata": {},
   "outputs": [],
   "source": [
    "report_url = \"https://data.eastmoney.com/report/zw_strategy.jshtml?encodeUrl=Yyj420HqdtkCEXEB9AMKeF/1kwlXz5iqTKQFlKgl/mY=\""
   ]
  },
  {
   "cell_type": "code",
   "execution_count": 1,
   "metadata": {},
   "outputs": [
    {
     "name": "stdout",
     "output_type": "stream",
     "text": [
      "https://reportapi.eastmoney.com/report/list2?beginTime=2023-03-25&endTime=2025-03-25&industryCode=%2A&code=%2A&rcode=&pageSize=50\n"
     ]
    }
   ],
   "source": [
    "import urllib.parse\n",
    "\n",
    "report_list_url = \"https://reportapi.eastmoney.com/report/list2\"\n",
    "pay_load = {\n",
    "    \"beginTime\": \"2023-03-25\",\n",
    "    \"endTime\": \"2025-03-25\",\n",
    "    \"industryCode\": \"*\",\n",
    "    \"ratingChange\": None,\n",
    "    \"rating\": None,\n",
    "    \"orgCode\": None,\n",
    "    \"code\": \"*\",\n",
    "    \"rcode\": \"\",\n",
    "    \"pageSize\": 50\n",
    "}\n",
    "\n",
    "# 过滤掉值为 None 的项\n",
    "filtered_payload = {k: v for k, v in pay_load.items() if v is not None}\n",
    "\n",
    "# 将 payload 转换为查询字符串\n",
    "query_string = urllib.parse.urlencode(filtered_payload)\n",
    "\n",
    "# 组合完整的 URL\n",
    "full_url = f\"{report_list_url}?{query_string}\"\n",
    "print(full_url)"
   ]
  },
  {
   "cell_type": "code",
   "execution_count": 2,
   "metadata": {},
   "outputs": [
    {
     "name": "stdout",
     "output_type": "stream",
     "text": [
      "   item                value\n",
      "0  股票代码               600000\n",
      "1  股票简称                 浦发银行\n",
      "2   总股本        29352178302.0\n",
      "3   流通股        29352178302.0\n",
      "4   总市值  309665481086.100037\n",
      "5  流通市值  309665481086.100037\n",
      "6    行业                   银行\n",
      "7  上市时间             19991110\n"
     ]
    }
   ],
   "source": [
    "import akshare as ak\n",
    "\n",
    "# 获取股票基础信息\n",
    "stock_info = ak.stock_individual_info_em(\"600000\")\n",
    "print(stock_info)"
   ]
  }
 ],
 "metadata": {
  "kernelspec": {
   "display_name": "base",
   "language": "python",
   "name": "python3"
  },
  "language_info": {
   "codemirror_mode": {
    "name": "ipython",
    "version": 3
   },
   "file_extension": ".py",
   "mimetype": "text/x-python",
   "name": "python",
   "nbconvert_exporter": "python",
   "pygments_lexer": "ipython3",
   "version": "3.12.7"
  }
 },
 "nbformat": 4,
 "nbformat_minor": 2
}
